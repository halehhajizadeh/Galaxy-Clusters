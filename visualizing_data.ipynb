{
 "cells": [
  {
   "cell_type": "code",
   "execution_count": 1,
   "metadata": {},
   "outputs": [],
   "source": [
    "import csv\n",
    "import numpy as np\n",
    "import pandas as pd\n",
    "import matplotlib.pylab as plt"
   ]
  },
  {
   "cell_type": "code",
   "execution_count": 2,
   "metadata": {},
   "outputs": [],
   "source": [
    "path = './dataset/HzAGN_Groups_0_3_noMcut_InfallTime_matched.csv'\n",
    "dataset = pd.read_csv(path)"
   ]
  },
  {
   "cell_type": "code",
   "execution_count": 3,
   "metadata": {},
   "outputs": [],
   "source": [
    "dataset['sigma'] = np.sqrt(dataset['sigma_vx']**2 + dataset['sigma_vy']**2 + dataset['sigma_vz']**2)\n",
    "dataset.to_csv('dataset.csv')"
   ]
  },
  {
   "cell_type": "code",
   "execution_count": 4,
   "metadata": {},
   "outputs": [],
   "source": [
    "dataset['t(Gyr)'] = dataset['t(Myr)[col2]']*1e-9\n",
    "dataset.to_csv('dataset.csv')"
   ]
  },
  {
   "cell_type": "code",
   "execution_count": 5,
   "metadata": {},
   "outputs": [],
   "source": [
    "infalls = []\n",
    "for time in dataset['t(Gyr)']:\n",
    "    if time <= 0:\n",
    "        infalls.append('first')\n",
    "    elif 0 <  time <= 3.63:\n",
    "        infalls.append('recent')\n",
    "    elif 3.63 < time <= 6.45:\n",
    "        infalls.append('intermediate')\n",
    "    elif 6.45 <   time:\n",
    "        infalls.append('ancient')\n",
    "\n",
    "dataset['infalling'] = infalls       "
   ]
  },
  {
   "cell_type": "code",
   "execution_count": 6,
   "metadata": {},
   "outputs": [],
   "source": [
    "dataset.to_csv('dataset.csv')"
   ]
  },
  {
   "cell_type": "code",
   "execution_count": 7,
   "metadata": {},
   "outputs": [
    {
     "data": {
      "text/plain": [
       "11.47999"
      ]
     },
     "execution_count": 7,
     "metadata": {},
     "output_type": "execute_result"
    }
   ],
   "source": [
    "max(dataset['t(Gyr)'])"
   ]
  },
  {
   "cell_type": "code",
   "execution_count": 15,
   "metadata": {},
   "outputs": [],
   "source": [
    "dataset_gID = dataset.groupby('GroupSize')"
   ]
  },
  {
   "cell_type": "code",
   "execution_count": 16,
   "metadata": {},
   "outputs": [
    {
     "data": {
      "text/plain": [
       "242"
      ]
     },
     "execution_count": 16,
     "metadata": {},
     "output_type": "execute_result"
    }
   ],
   "source": [
    "max(dataset['GroupSize'])"
   ]
  },
  {
   "cell_type": "code",
   "execution_count": 45,
   "metadata": {},
   "outputs": [],
   "source": [
    "group = dataset_gID.get_group(22)"
   ]
  },
  {
   "cell_type": "code",
   "execution_count": 47,
   "metadata": {},
   "outputs": [
    {
     "data": {
      "image/png": "[encoded data removed]",
      "text/plain": [
       "<Figure size 432x288 with 1 Axes>"
      ]
     },
     "metadata": {
      "needs_background": "light"
     },
     "output_type": "display_data"
    }
   ],
   "source": [
    "x = group['offset']\n",
    "y = group['velgal']/group['sigma']\n",
    "\n",
    "colors = {'first':\"blue\", 'recent':\"green\", 'intermediate':\"orange\", 'ancient':\"red\"}\n",
    "\n",
    "# group_max[group_max['infalling'] == 'first'], group_max[group_max['infalling'] == 'recent'],\n",
    "# group_max[group_max['infalling'] == 'intermediate'], group_max[group_max['infalling'] == 'ancient']}        \n",
    "\n",
    "# plt.figure(figsize=(10,8))\n",
    "# plt.scatter(x,y, marker='.')\n",
    "# plt.xlim(0, 1.5)\n",
    "# plt.ylim(0, 2.5)\n",
    "\n",
    "fig, ax = plt.subplots()\n",
    "\n",
    "ax.scatter(x, y, marker='.', c=group['infalling'].map(colors))\n",
    "\n",
    "plt.show()\n"
   ]
  },
  {
   "cell_type": "code",
   "execution_count": null,
   "metadata": {},
   "outputs": [],
   "source": [
    "y1 = dataset['SFR_first[col32]']\n",
    "y2 = dataset['SFR_0[col17]']\n",
    "x1 = dataset['M*_first[col25]']\n",
    "x2 = dataset['M*_0[col10]']\n",
    "\n",
    "x = x2-x1\n",
    "y = y2-y1\n",
    "\n",
    "x_label = x2.name.split('[')[0] + ' - ' + x1.name.split('[')[0]\n",
    "y_label = y2.name.split('[')[0] + ' - ' + y1.name.split('[')[0]\n",
    "\n",
    "plt.figure(figsize=(10,8))\n",
    "plt.scatter(x,y, marker='.', c='teal', alpha=0.09)\n",
    "# plt.xscale('log')\n",
    "# plt.yscale('log')\n",
    "plt.title('(' + str(y_label)+')   VS   ('+ str(x_label) + ')', fontsize = 20)\n",
    "plt.xlabel(x_label, fontsize = 15) \n",
    "plt.ylabel(y_label, fontsize = 15)"
   ]
  },
  {
   "cell_type": "code",
   "execution_count": null,
   "metadata": {},
   "outputs": [],
   "source": [
    "y = dataset['Mh_first[col24]']\n",
    "x = dataset['z[4]']\n",
    "\n",
    "x_label = x.name.split('[')[0]\n",
    "y_label = y.name.split('[')[0]\n",
    "\n",
    "plt.figure(figsize=(10,8))\n",
    "plt.scatter(x, y, marker='.', c='blue', alpha=0.09)\n",
    "# plt.xscale('log')\n",
    "plt.yscale('log')\n",
    "plt.title(str(y_label)+'   VS   '+str(x_label), fontsize = 20)\n",
    "plt.xlabel(x_label, fontsize = 15) \n",
    "plt.ylabel(y_label, fontsize = 15)"
   ]
  },
  {
   "cell_type": "code",
   "execution_count": null,
   "metadata": {},
   "outputs": [],
   "source": [
    "y1 = dataset['M*_first[col25]']\n",
    "y2 = dataset['M*_0[col10]']\n",
    "x = dataset['z[4]']\n",
    "\n",
    "x = x\n",
    "y = y2-y1\n",
    "\n",
    "x_label = x.name.split('[')[0]\n",
    "y_label = y2.name.split('[')[0] + ' - ' + y1.name.split('[')[0]\n",
    "\n",
    "plt.figure(figsize=(10,8))\n",
    "plt.scatter(x,y, marker='.', c='blue', alpha=0.09)\n",
    "plt.xscale('log')\n",
    "plt.yscale('log')\n",
    "plt.title('(' + str(y_label)+')   VS   ('+ str(x_label) + ')', fontsize = 20)\n",
    "plt.xlabel(x_label, fontsize = 15) \n",
    "plt.ylabel(y_label, fontsize = 15)"
   ]
  },
  {
   "cell_type": "code",
   "execution_count": null,
   "metadata": {},
   "outputs": [],
   "source": [
    "y1 = dataset['Mh_first[col24]']\n",
    "y2 = dataset['Mh_0[col9]']\n",
    "x = dataset['t(Myr)[col2]']\n",
    "\n",
    "x = x\n",
    "y = y2-y1\n",
    "\n",
    "x_label = x.name.split('[')[0]\n",
    "y_label = y2.name.split('[')[0] + ' - ' + y1.name.split('[')[0]\n",
    "\n",
    "plt.figure(figsize=(10,8))\n",
    "plt.scatter(x,y, marker='.', c='green', alpha = 0.09)\n",
    "plt.xscale('log')\n",
    "# plt.yscale('log')\n",
    "plt.title('(' + str(y_label)+')   VS   ('+ str(x_label) + ')', fontsize = 20)\n",
    "plt.xlabel(x_label, fontsize = 15) "
   ]
  },
  {
   "cell_type": "markdown",
   "metadata": {},
   "source": [
    "What is limitation? When quenching occures?"
   ]
  },
  {
   "cell_type": "code",
   "execution_count": null,
   "metadata": {},
   "outputs": [],
   "source": [
    "y1 = dataset['SFR_first[col32]']\n",
    "y2 = dataset['SFR_0[col17]']\n",
    "x = dataset['M*_0[col10]']\n",
    "\n",
    "x = x\n",
    "y = y2-y1\n",
    "\n",
    "x_label = x.name.split('[')[0]\n",
    "y_label = y2.name.split('[')[0] + ' - ' + y1.name.split('[')[0]\n",
    "\n",
    "plt.figure(figsize=(10,8))\n",
    "plt.scatter(x,y, marker='.', c='b', alpha=0.05)\n",
    "plt.axhline(y = 0.5, color = 'r', linestyle = '-')\n",
    "plt.xscale('log')\n",
    "plt.yscale('log')\n",
    "plt.title('(' + str(y_label)+')   VS   ('+ str(x_label) + ')', fontsize = 20)\n",
    "plt.xlabel(x_label, fontsize = 15) \n",
    "plt.ylabel(y_label, fontsize = 15)"
   ]
  },
  {
   "cell_type": "code",
   "execution_count": null,
   "metadata": {},
   "outputs": [],
   "source": []
  }
 ],
 "metadata": {
  "interpreter": {
   "hash": "6beeef748fbd36937392f587eae53817173da90809f29a7eb18c0a793fb766c6"
  },
  "kernelspec": {
   "display_name": "Python 3.9.0 64-bit",
   "language": "python",
   "name": "python3"
  },
  "language_info": {
   "codemirror_mode": {
    "name": "ipython",
    "version": 3
   },
   "file_extension": ".py",
   "mimetype": "text/x-python",
   "name": "python",
   "nbconvert_exporter": "python",
   "pygments_lexer": "ipython3",
   "version": "3.9.0"
  },
  "orig_nbformat": 4
 },
 "nbformat": 4,
 "nbformat_minor": 2
}
