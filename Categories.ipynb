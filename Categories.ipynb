{
 "cells": [
  {
   "cell_type": "code",
   "execution_count": 1,
   "metadata": {},
   "outputs": [],
   "source": [
    "import csv\n",
    "import numpy as np\n",
    "import pandas as pd\n",
    "import seaborn as sns\n",
    "import matplotlib.pyplot as plt"
   ]
  },
  {
   "cell_type": "code",
   "execution_count": 2,
   "metadata": {},
   "outputs": [],
   "source": [
    "path = './dataset/HzAGN_Groups_0_3_noMcut_InfallTime_matched.csv'\n",
    "dataset = pd.read_csv(path)"
   ]
  },
  {
   "cell_type": "code",
   "execution_count": 3,
   "metadata": {},
   "outputs": [],
   "source": [
    "dataset['Mh'] = dataset['Mh_0[col9]'] - dataset['M*_first[col25]']\n",
    "dataset.to_csv('dataset2.csv')"
   ]
  },
  {
   "cell_type": "code",
   "execution_count": 7,
   "metadata": {},
   "outputs": [],
   "source": [
    "def categorize (z, logMh):\n",
    "    if ((0.07 <= z <= 0.40) and (12.65 <= logMh <= 13.30)):\n",
    "        return'S-I'\n",
    "    elif ((0.07 <= z <= 0.40) and (13.30 < logMh <= 14.50)):\n",
    "        return'S-II'\n",
    "    elif ((0.40 < z <= 0.70) and (13.30 <= logMh <= 14.50)):\n",
    "        return'S-III'\n",
    "    elif ((0.70 < z <= 1) and (13.30 <= logMh <= 14.50)):\n",
    "        return'S-IV'\n",
    "    else:\n",
    "        return np.nan\n",
    "\n",
    "dataset['category'] = dataset.apply(lambda row: categorize(row['z[4]'], row['Mh']), axis=1)"
   ]
  },
  {
   "cell_type": "code",
   "execution_count": 9,
   "metadata": {},
   "outputs": [],
   "source": [
    "dataset.to_csv('dataset2.csv')"
   ]
  },
  {
   "cell_type": "code",
   "execution_count": null,
   "metadata": {},
   "outputs": [],
   "source": []
  }
 ],
 "metadata": {
  "interpreter": {
   "hash": "6beeef748fbd36937392f587eae53817173da90809f29a7eb18c0a793fb766c6"
  },
  "kernelspec": {
   "display_name": "Python 3.9.0 64-bit",
   "language": "python",
   "name": "python3"
  },
  "language_info": {
   "codemirror_mode": {
    "name": "ipython",
    "version": 3
   },
   "file_extension": ".py",
   "mimetype": "text/x-python",
   "name": "python",
   "nbconvert_exporter": "python",
   "pygments_lexer": "ipython3",
   "version": "3.9.0"
  },
  "orig_nbformat": 4
 },
 "nbformat": 4,
 "nbformat_minor": 2
}
